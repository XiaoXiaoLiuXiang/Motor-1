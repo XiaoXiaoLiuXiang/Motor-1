{
 "metadata": {
  "name": "GetIP"
 },
 "nbformat": 3,
 "nbformat_minor": 0,
 "worksheets": [
  {
   "cells": [
    {
     "cell_type": "code",
     "collapsed": false,
     "input": [
      "import netifaces as ni\n",
      "#ifaces=ni.interfaces()\n",
      "#print(iface)\n",
      "#print(ni.ifaddresses('wlan0'))\n",
      "\n",
      "def GetIP(iface):\n",
      "    ip = ni.ifaddresses(iface)[2][0]['addr']\n",
      "    #print(type(ip))\n",
      "    return ip  \n",
      "\n",
      "print(GetIP('wlan0'))"
     ],
     "language": "python",
     "metadata": {},
     "outputs": [
      {
       "output_type": "stream",
       "stream": "stdout",
       "text": [
        "192.168.178.52\n"
       ]
      }
     ],
     "prompt_number": 54
    },
    {
     "cell_type": "code",
     "collapsed": false,
     "input": [],
     "language": "python",
     "metadata": {},
     "outputs": [],
     "prompt_number": 50
    },
    {
     "cell_type": "code",
     "collapsed": false,
     "input": [],
     "language": "python",
     "metadata": {},
     "outputs": []
    }
   ],
   "metadata": {}
  }
 ]
}