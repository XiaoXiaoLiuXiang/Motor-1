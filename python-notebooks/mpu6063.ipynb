{
 "metadata": {
  "name": "mpu6063"
 },
 "nbformat": 3,
 "nbformat_minor": 0,
 "worksheets": [
  {
   "cells": [
    {
     "cell_type": "code",
     "collapsed": false,
     "input": [
      "\n",
      "#!/usr/bin/python\n",
      "\n",
      "import smbus\n",
      "import math\n",
      "\n",
      "# Power management registers\n",
      "power_mgmt_1 = 0x6b\n",
      "power_mgmt_2 = 0x6c\n",
      "\n",
      "def read_byte(adr):\n",
      "    return bus.read_byte_data(address, adr)\n",
      "\n",
      "def read_word(adr):\n",
      "    high = bus.read_byte_data(address, adr)\n",
      "    low = bus.read_byte_data(address, adr+1)\n",
      "    val = (high << 8) + low\n",
      "    return val\n",
      "\n",
      "# convert two-compliment to real number\n",
      "def read_word_2c(adr):\n",
      "    val = read_word(adr)\n",
      "    if (val >= 0x8000):\n",
      "        return -((65535 - val) + 1)\n",
      "    else:\n",
      "        return val\n",
      "\n",
      "def dist(a,b):\n",
      "    return math.sqrt((a*a)+(b*b))\n",
      "\n",
      "def get_y_rotation(x,y,z):\n",
      "    radians = math.atan2(x, dist(y,z))\n",
      "    return -math.degrees(radians)\n",
      "\n",
      "def get_x_rotation(x,y,z):\n",
      "    radians = math.atan2(y, dist(x,z))\n",
      "    return math.degrees(radians)\n",
      "\n",
      "bus = smbus.SMBus(1) # or bus = smbus.SMBus(1) for Revision 2 boards\n",
      "address = 0x68       # This is the address value read via the i2cdetect command\n",
      "\n",
      "# Now wake the 6050 up as it starts in sleep mode\n",
      "bus.write_byte_data(address, power_mgmt_1, 0)\n",
      "\n",
      "print (\"gyro data\")\n",
      "print (\"---------\")\n",
      "\n",
      "GYRO_XOUT_REG=0x43 # 0x43,0x44 high and low byte of X gyro data of register\n",
      "GYRO_YOUT_REG=0x45 # 0x45,0x46 high and low byte of Y gyro data of register\n",
      "GYRO_ZOUT_REG=0x47 # 0x47,0x48 high and low byte of z gyro data of register\n",
      "\n",
      "gyro_xout = read_word_2c(GYRO_XOUT_REG) # interger data of gyro\n",
      "gyro_yout = read_word_2c(GYRO_YOUT_REG)\n",
      "gyro_zout = read_word_2c(GYRO_ZOUT_REG)\n",
      "\n",
      "gyro_xout_scaled = gyro_xout / 131 # 131 corresponds 1 degree/s\n",
      "gyro_yout_scaled = gyro_yout / 131\n",
      "gyro_zout_scaled = gyro_zout / 131\n",
      "\n",
      "print (\"gyro_xout: {0}, \\t scaled: {1} degree/s\".format(gyro_xout, gyro_xout_scaled)) \n",
      "print (\"gyro_yout: {0}, \\t scaled: {1} degree/s\".format(gyro_yout, gyro_yout_scaled)) \n",
      "print (\"gyro_zout: {0}, \\t scaled: {1} degree/s\".format(gyro_zout, gyro_zout_scaled)) \n",
      "\n",
      "print (\"\\n\")\n",
      "print (\"accelerometer data\")\n",
      "print (\"------------------\")\n",
      "\n",
      "ACCEL_XOUT_REG = 0x3b # 0x3b,0x3c high and low byte of X acceleration data of register\n",
      "ACCEL_YOUT_REG = 0x3d # 0x3d,0x3e high and low byte of X acceleration data of register\n",
      "ACCEL_ZOUT_REG = 0x3f # 0x3f,0x40 high and low byte of X acceleration data of register\n",
      "\n",
      "accel_xout = read_word_2c(ACCEL_XOUT_REG)\n",
      "accel_yout = read_word_2c(ACCEL_YOUT_REG)\n",
      "accel_zout = read_word_2c(ACCEL_ZOUT_REG)\n",
      "\n",
      "accel_xout_scaled = accel_xout / 16384.0 # 16384 corresponds 1 g\n",
      "accel_yout_scaled = accel_yout / 16384.0\n",
      "accel_zout_scaled = accel_zout / 16384.0\n",
      "\n",
      "print (\"accel_xout: {0} \\t scaled: {1} g\".format(accel_xout, accel_xout_scaled))\n",
      "print (\"accel_yout: {0} \\t scaled: {1} g\".format(accel_yout, accel_yout_scaled))\n",
      "print (\"accel_zout: {0} \\t scaled: {1} g\".format(accel_zout, accel_zout_scaled))\n",
      "\n",
      "print (\"x rotation: \" , get_x_rotation(accel_xout_scaled, accel_yout_scaled, accel_zout_scaled))\n",
      "print (\"y rotation: \" , get_y_rotation(accel_xout_scaled, accel_yout_scaled, accel_zout_scaled))\n",
      "\n",
      "\n",
      "TEMP_OUT_REG = 0x41  # 0x41,0x42 high and low byte of X acceleration data of register\n",
      "temp_out = read_word_2c(TEMP_OUT_REG) # integer data of temperature\n",
      "temp_out_scaled = temp_out/340.0 + 36.53 # according manual\n",
      "print(\"\\n\")\n",
      "print(\"temperature\")\n",
      "print (\"-------\")\n",
      "print(\"temp_out: {0}, \\t sccaled: {1} C\".format(temp_out, temp_out_scaled))"
     ],
     "language": "python",
     "metadata": {},
     "outputs": [
      {
       "output_type": "stream",
       "stream": "stdout",
       "text": [
        "gyro data\n",
        "---------\n",
        "gyro_xout: -12, \t scaled: -0.0916030534351145 degree/s\n",
        "gyro_yout: -255, \t scaled: -1.9465648854961832 degree/s\n",
        "gyro_zout: 105, \t scaled: 0.8015267175572519 degree/s\n",
        "\n",
        "\n",
        "accelerometer data\n",
        "------------------\n",
        "accel_xout: -1492 \t scaled: -0.091064453125 g"
       ]
      },
      {
       "output_type": "stream",
       "stream": "stdout",
       "text": [
        "\n",
        "accel_yout: 840 \t scaled: 0.05126953125 g\n",
        "accel_zout: 17128 \t scaled: 1.04541015625 g\n",
        "x rotation:  2.7971037632796705\n",
        "y rotation:  4.972455424703592\n",
        "\n",
        "\n",
        "temperature\n",
        "-------\n",
        "temp_out: -5184, \t sccaled: 21.28294117647059 C\n"
       ]
      }
     ],
     "prompt_number": 16
    },
    {
     "cell_type": "code",
     "collapsed": false,
     "input": [
      "32767/250"
     ],
     "language": "python",
     "metadata": {},
     "outputs": [
      {
       "output_type": "pyout",
       "prompt_number": 7,
       "text": [
        "131.068"
       ]
      }
     ],
     "prompt_number": 7
    },
    {
     "cell_type": "code",
     "collapsed": false,
     "input": [],
     "language": "python",
     "metadata": {},
     "outputs": []
    }
   ],
   "metadata": {}
  }
 ]
}